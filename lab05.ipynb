{
 "cells": [
  {
   "cell_type": "markdown",
   "metadata": {},
   "source": [
    "## Lab 05"
   ]
  },
  {
   "cell_type": "markdown",
   "metadata": {},
   "source": [
    "#### Elementy programowania funkcyjnego\n",
    "Zaimplementuj poniższe funkcje tak, aby działały identycznie jak ich wbudowane opdowiedniki. Pamiętaj, że w Pythonie3 te funkcje zwracają generatory. W razie wątpliwości co do nietypowego zachowania tych funkcji odsyłam do <a href=\"https://docs.python.org/3/library/functions.html\">dokumentacji</a>."
   ]
  },
  {
   "cell_type": "markdown",
   "metadata": {},
   "source": [
    "## Zadanie 1"
   ]
  },
  {
   "cell_type": "code",
   "metadata": {
    "ExecuteTime": {
     "end_time": "2024-11-19T20:46:18.143145Z",
     "start_time": "2024-11-19T20:46:18.137820Z"
    }
   },
   "source": [
    "def _filter(func=None, iterable=[]):\n",
    "    \"\"\"Filtruje z iterable elementy, dla których funkcja func zwraca False zostawiając pozostałe\"\"\"\n",
    "    for i in iterable:\n",
    "        if func is None:\n",
    "            if i:\n",
    "                yield i\n",
    "        else:\n",
    "            if func(i):\n",
    "                yield i\n",
    "\n",
    "\n",
    "from types import GeneratorType\n",
    "print(isinstance(_filter(), GeneratorType))\n",
    "print(list(filter(lambda x: x > 0, [0, -3, 1, 6])) == list(_filter(lambda x: x > 0, [0, -3, 1, 6])))\n",
    "print(list(filter(None, [2, -3, 1, 6])) == list(_filter(None, [2, -3, 1, 6])))\n",
    "print(list(filter(None, [True, False, False])) == list(_filter(None, [True, False, False])))\n",
    "print(list(filter(None, [0, -3, 1, 6])) == list(_filter(None, [0, -3, 1, 6])))"
   ],
   "outputs": [
    {
     "name": "stdout",
     "output_type": "stream",
     "text": [
      "True\n",
      "True\n",
      "True\n",
      "True\n",
      "True\n"
     ]
    }
   ],
   "execution_count": 22
  },
  {
   "cell_type": "markdown",
   "metadata": {},
   "source": [
    "## Zadanie 2"
   ]
  },
  {
   "cell_type": "code",
   "metadata": {
    "ExecuteTime": {
     "end_time": "2024-11-19T20:46:18.174488Z",
     "start_time": "2024-11-19T20:46:18.170489Z"
    }
   },
   "source": [
    "def _map(func, iterable, *args):\n",
    "    \"\"\"Mapuje elementy iterable na wartości fuknckji func\"\"\"   \n",
    "    for elements in zip(iterable, *args):\n",
    "        yield func(*elements)\n",
    "\n",
    "\n",
    "from types import GeneratorType\n",
    "print(isinstance(_map(None, None), GeneratorType))\n",
    "print(list(map(lambda x: x.upper(), 'ala ma kota')) == list(_map(lambda x: x.upper(), 'ala ma kota')))\n",
    "print(list(map(lambda x,y: x+y, [1,2,3,4], [5,6,7,8])) == list(_map(lambda x,y: x+y, [1,2,3,4], [5,6,7,8])))"
   ],
   "outputs": [
    {
     "name": "stdout",
     "output_type": "stream",
     "text": [
      "True\n",
      "True\n",
      "True\n"
     ]
    }
   ],
   "execution_count": 23
  },
  {
   "cell_type": "markdown",
   "metadata": {},
   "source": [
    "## Zadanie 3"
   ]
  },
  {
   "cell_type": "markdown",
   "metadata": {},
   "source": [
    "Napisz poniższą funkcję korzystając wyłącznie z funkcji reduce, map i filter oraz lambd"
   ]
  },
  {
   "cell_type": "code",
   "metadata": {
    "ExecuteTime": {
     "end_time": "2024-11-19T20:46:18.191070Z",
     "start_time": "2024-11-19T20:46:18.188243Z"
    }
   },
   "source": [
    "from functools import reduce\n",
    "def reverse_nonpalindromes(words):\n",
    "    \"\"\"Zwraca listę odwróconych słowa które nie są palindromami.\n",
    "   Palindromy zostają pominięte\"\"\"\n",
    "    return list(map(lambda s : s[::-1],filter(lambda s : s != s[::-1], words)))\n",
    " \n",
    "print(reverse_nonpalindromes([\"aa\", \"ab\"])==[\"ba\"])\n",
    "print(reverse_nonpalindromes([\"eht\", \"dog\", \"ala\"])==[\"the\", \"god\"])"
   ],
   "outputs": [
    {
     "name": "stdout",
     "output_type": "stream",
     "text": [
      "True\n",
      "True\n"
     ]
    }
   ],
   "execution_count": 24
  },
  {
   "cell_type": "markdown",
   "metadata": {},
   "source": [
    "## Zadanie 4 "
   ]
  },
  {
   "cell_type": "markdown",
   "metadata": {},
   "source": [
    "Przepisz poniższą funkcję korzystając wyłącznie z funkcji reduce, map i filter oraz lambd"
   ]
  },
  {
   "cell_type": "code",
   "metadata": {
    "ExecuteTime": {
     "end_time": "2024-11-19T20:46:18.210791Z",
     "start_time": "2024-11-19T20:46:18.207934Z"
    }
   },
   "source": [
    "from functools import reduce\n",
    "\n",
    "def squares_of_odds(values):\n",
    "    \"\"\"Zwraca sumę kwadratów nieparzystych liczb\"\"\"\n",
    "    # return sum(v**2 for v in values if v%2)\n",
    "    return reduce(lambda x,y: x+y, map(lambda v: v**2, filter(lambda v: v%2 == 1, values)),0)\n",
    "\n",
    "print(squares_of_odds([1,2,3,4,5,6])==35)\n",
    "print(squares_of_odds([10, 13, 5, 6])==194)"
   ],
   "outputs": [
    {
     "name": "stdout",
     "output_type": "stream",
     "text": [
      "True\n",
      "True\n"
     ]
    }
   ],
   "execution_count": 25
  },
  {
   "cell_type": "markdown",
   "metadata": {},
   "source": [
    "## Zadanie 5"
   ]
  },
  {
   "cell_type": "markdown",
   "metadata": {},
   "source": [
    "Przepisz poniższą funkcję korzystając wyłącznie z funkcji reduce, map i filter oraz lambd"
   ]
  },
  {
   "cell_type": "code",
   "metadata": {
    "ExecuteTime": {
     "end_time": "2024-11-19T20:46:18.228750Z",
     "start_time": "2024-11-19T20:46:18.226144Z"
    }
   },
   "source": [
    "def all_are_positive(numbers):\n",
    "    \"\"\"zwraca czy wszystkie liczby są dodatnie\"\"\"\n",
    "    # return all(n>0 for n in numbers)    \n",
    "    return reduce(lambda x, y: x and y, map(lambda n: n > 0, numbers), True)\n",
    "\n",
    "print(all_are_positive([])) #PS: tu sie im wykraczy bez inicjalizatora :)\n",
    "print(all_are_positive([1,2,3]))\n",
    "print(not all_are_positive([-1,2,3]))\n",
    "print(not all_are_positive([5,6,-2,1]))\n"
   ],
   "outputs": [
    {
     "name": "stdout",
     "output_type": "stream",
     "text": [
      "True\n",
      "True\n",
      "True\n",
      "True\n"
     ]
    }
   ],
   "execution_count": 26
  },
  {
   "cell_type": "markdown",
   "metadata": {},
   "source": [
    "## Zadanie 6 "
   ]
  },
  {
   "cell_type": "markdown",
   "metadata": {},
   "source": [
    "Przepisz poniższą funkcję korzystając wyłącznie z funkcji reduce, map i filter oraz lambd"
   ]
  },
  {
   "cell_type": "code",
   "metadata": {
    "ExecuteTime": {
     "end_time": "2024-11-19T20:46:18.254290Z",
     "start_time": "2024-11-19T20:46:18.251819Z"
    }
   },
   "source": [
    "def flatten(lists):\n",
    "    # return [elem for l in lists for elem in l]\n",
    "    return list(reduce(lambda l1, l2: l1 + l2, lists))\n",
    "\n",
    "print(flatten([[]])==[])\n",
    "print(flatten([[1,2],[3,4]])==[1,2,3,4])\n",
    "print(flatten([[\"1\", 1.1],[]])==[\"1\", 1.1])"
   ],
   "outputs": [
    {
     "name": "stdout",
     "output_type": "stream",
     "text": [
      "True\n",
      "True\n",
      "True\n"
     ]
    }
   ],
   "execution_count": 27
  },
  {
   "cell_type": "markdown",
   "metadata": {},
   "source": [
    "-------"
   ]
  },
  {
   "cell_type": "markdown",
   "metadata": {},
   "source": [
    "#### Jednolinijkowce\n",
    "W poniższej serii zadań **nie** używaj list/dict/set comprehension, zamiast tego użyj paradygmatu funkcyjnego. Każde rozwiązanie powinno być jednolinijkowe."
   ]
  },
  {
   "cell_type": "markdown",
   "metadata": {},
   "source": [
    "## Zadanie 7"
   ]
  },
  {
   "cell_type": "code",
   "metadata": {
    "ExecuteTime": {
     "end_time": "2024-11-19T20:46:18.277582Z",
     "start_time": "2024-11-19T20:46:18.275424Z"
    }
   },
   "source": [
    "def celsius_to_fahrenheit(X):\n",
    "    \"\"\"Konwertuje liste temperatur w stopniach Celsjusza do skali Fahrenheita\"\"\"\n",
    "    return map(lambda x: (x * 9/5) + 32, X)\n",
    "\n",
    "print(list(celsius_to_fahrenheit([0, 10, 100])) == [32.0, 50.0, 212.0])\n",
    "print(list(celsius_to_fahrenheit([-123, 0])) == [-189.4, 32.0])"
   ],
   "outputs": [
    {
     "name": "stdout",
     "output_type": "stream",
     "text": [
      "True\n",
      "True\n"
     ]
    }
   ],
   "execution_count": 28
  },
  {
   "cell_type": "markdown",
   "metadata": {},
   "source": [
    "## Zadanie 8 "
   ]
  },
  {
   "cell_type": "code",
   "metadata": {
    "ExecuteTime": {
     "end_time": "2024-11-19T20:46:18.292868Z",
     "start_time": "2024-11-19T20:46:18.289259Z"
    }
   },
   "source": [
    "from functools import reduce\n",
    "\n",
    "def product_greater_than(x, k=0):\n",
    "    \"\"\"Zwraca iloczyn liczb w liście x większych od k\"\"\"\n",
    "    return reduce(lambda x, y: x*y, filter(lambda x: x>k, x))\n",
    "\n",
    "print(product_greater_than([1, 2, 3]) == 6)\n",
    "print(product_greater_than([1, 2, 3], 2) == 3)\n",
    "print(product_greater_than([-4, 5, 10, 23, 123], -5) == -565800)"
   ],
   "outputs": [
    {
     "name": "stdout",
     "output_type": "stream",
     "text": [
      "True\n",
      "True\n",
      "True\n"
     ]
    }
   ],
   "execution_count": 29
  },
  {
   "cell_type": "markdown",
   "metadata": {},
   "source": [
    "## Zadanie 9 "
   ]
  },
  {
   "cell_type": "code",
   "metadata": {
    "ExecuteTime": {
     "end_time": "2024-11-19T20:46:18.309523Z",
     "start_time": "2024-11-19T20:46:18.307099Z"
    }
   },
   "source": [
    "from functools import reduce\n",
    "\n",
    "def create_sentence(x, k=0):\n",
    "    \"\"\"Łączy słowa (o długości co najmniej k) z listy x w zdanie - nie używa reduce\"\"\"\n",
    "    # return reduce(lambda x, y: x + \" \" + y, filter(lambda x: len(x) >= k, x))\n",
    "    return \" \".join(filter(lambda x: len(x) >= k, x))\n",
    "    \n",
    "print(create_sentence(['ala', 'ma', 'kota']) == 'ala ma kota')\n",
    "print(create_sentence(['ala']) == 'ala')\n",
    "print(create_sentence(['ala', 'ma', 'pieknego', 'kota'], k=3) == 'ala pieknego kota')"
   ],
   "outputs": [
    {
     "name": "stdout",
     "output_type": "stream",
     "text": [
      "True\n",
      "True\n",
      "True\n"
     ]
    }
   ],
   "execution_count": 30
  },
  {
   "cell_type": "markdown",
   "metadata": {},
   "source": [
    "## Zadanie 10"
   ]
  },
  {
   "cell_type": "code",
   "metadata": {
    "ExecuteTime": {
     "end_time": "2024-11-19T20:46:18.325334Z",
     "start_time": "2024-11-19T20:46:18.322336Z"
    }
   },
   "source": [
    "def tuple_if_sum_greater(k, *lists):\n",
    "    \"\"\"Zwraca k-elementową krotke składającą się z kolejnych elementów list podanych jako arguemnty pozycyjne, \n",
    "       jeżeli ich suma jest większa niż parametr k\"\"\"\n",
    "    return filter(lambda l: sum(l) > k, zip(*lists))\n",
    "\n",
    "print(list(tuple_if_sum_greater(0, [1,2,3])) == [(1,),(2,),(3,)])\n",
    "print(list(tuple_if_sum_greater(4, [1,2,3], [2,3,4])) == [(2,3),(3,4)])\n",
    "print(list(tuple_if_sum_greater(10, [1,2,3], [2,3,4])) == [])\n",
    "print(list(tuple_if_sum_greater(0, [1,2], [3,4], [5,6])) == [(1,3,5), (2,4,6)])"
   ],
   "outputs": [
    {
     "name": "stdout",
     "output_type": "stream",
     "text": [
      "True\n",
      "True\n",
      "True\n",
      "True\n"
     ]
    }
   ],
   "execution_count": 31
  },
  {
   "cell_type": "markdown",
   "metadata": {},
   "source": [
    "## Zadanie 11"
   ]
  },
  {
   "cell_type": "code",
   "metadata": {
    "ExecuteTime": {
     "end_time": "2024-11-19T20:46:18.405766Z",
     "start_time": "2024-11-19T20:46:18.402093Z"
    }
   },
   "source": [
    "from math import sqrt\n",
    "\n",
    "def primes(N):\n",
    "    \"\"\"Zwraca zbiór liczb pierwszych od 0 do N włącznie\"\"\"\n",
    "    return set(filter(lambda n: not reduce(lambda a, b: a or b, filter(lambda x: n % x == 0, range(2, int(sqrt(n))+1)), False), range(2, N + 1)))\n",
    "\n",
    "print(primes(5) == {2, 3, 5})\n",
    "print(primes(10) == {2, 3, 5, 7})\n",
    "print(primes(100) == {2, 3, 5, 7, 11, 13, 17, 19, 23, 29, 31, 37, 41,\n",
    "                      43, 47, 53, 59, 61, 67, 71, 73, 79, 83, 89, 97})"
   ],
   "outputs": [
    {
     "name": "stdout",
     "output_type": "stream",
     "text": [
      "True\n",
      "True\n",
      "True\n"
     ]
    }
   ],
   "execution_count": 32
  }
 ],
 "metadata": {
  "kernelspec": {
   "display_name": "Python 3",
   "language": "python",
   "name": "python3"
  },
  "language_info": {
   "codemirror_mode": {
    "name": "ipython",
    "version": 3
   },
   "file_extension": ".py",
   "mimetype": "text/x-python",
   "name": "python",
   "nbconvert_exporter": "python",
   "pygments_lexer": "ipython3",
   "version": "3.7.9"
  }
 },
 "nbformat": 4,
 "nbformat_minor": 2
}
