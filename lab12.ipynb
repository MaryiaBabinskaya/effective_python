{
 "cells": [
  {
   "cell_type": "markdown",
   "metadata": {},
   "source": [
    "# Pandas"
   ]
  },
  {
   "cell_type": "markdown",
   "metadata": {},
   "source": [
    "## Część I"
   ]
  },
  {
   "cell_type": "markdown",
   "metadata": {},
   "source": [
    "Będziemy przetwarzać dane z Kaggle odnośnie imion dzieci w USA."
   ]
  },
  {
   "cell_type": "markdown",
   "metadata": {},
   "source": [
    "Krok 0: wczytaj pandas"
   ]
  },
  {
   "cell_type": "code",
   "metadata": {
    "collapsed": true,
    "ExecuteTime": {
     "end_time": "2024-12-17T21:20:02.648136Z",
     "start_time": "2024-12-17T21:08:55.389353Z"
    }
   },
   "source": [
    "import pandas as pd\n",
    "import matplotlib.pyplot as plt\n",
    "import random\n",
    "\n",
    "# 1, 2\n",
    "baby_names = pd.read_csv(\"US_Baby_Names_right.csv\")\n",
    "print('Count of records= ', len(baby_names))\n",
    "\n",
    "# 3\n",
    "first10_baby_names = baby_names.head(10)\n",
    "print('First 10 records: \\n', first10_baby_names)\n",
    "\n",
    "# 4\n",
    "first10_baby_names_drop = first10_baby_names.drop(columns=['Unnamed: 0','Id' ])\n",
    "print('\\nFirst 10 records without columns \"Unnamed: 0\" oraz \"Id\" : \\n', first10_baby_names_drop)\n",
    "baby_names_drop = baby_names.drop(columns=['Unnamed: 0','Id' ])\n",
    "\n",
    "# 5\n",
    "count_of_F = baby_names_drop['Gender'].value_counts()['F']\n",
    "count_of_M = baby_names_drop['Gender'].value_counts()['M']\n",
    "print('Count of famales= ', count_of_F)\n",
    "print('Count of males= ', count_of_M)\n",
    "print('There are more famales') if count_of_F > count_of_M else print('There are more males') \n",
    "\n",
    "# 6\n",
    "grouped = baby_names_drop['Count'].groupby(baby_names_drop['Name'])\n",
    "grouped = grouped.sum().sort_values()\n",
    "all_names = list(grouped.index)\n",
    "grouped10 = grouped.tail(10)\n",
    "print('\\nMost popular names: \\n',grouped10)\n",
    "\n",
    "# 7\n",
    "names = list(grouped10.index)\n",
    "count = list(grouped10.values)\n",
    "\n",
    "plt.plot(count, names)\n",
    "plt.show()\n",
    "\n",
    "# 8\n",
    "print('Count of all different names= ', len(all_names))\n",
    "\n",
    "# 9\n",
    "weights = []\n",
    "for name in all_names:\n",
    "    count = baby_names['Name'].value_counts()[name]\n",
    "    weights.append(count/len(baby_names))\n",
    "random.choices(all_names, weights, k=1)\n",
    "\n",
    "# 10\n",
    "print('The most popular name is ', all_names[-1])\n",
    "print('Srednia= ', grouped.mean())\n",
    "print('Mediana= ', grouped.median())\n",
    "print('Odchylenie standardowe= ', grouped.std())"
   ],
   "outputs": [
    {
     "name": "stdout",
     "output_type": "stream",
     "text": [
      "Count of records=  1016395\n",
      "First 10 records: \n",
      "    Unnamed: 0     Id      Name  Year Gender State  Count\n",
      "0       11349  11350      Emma  2004      F    AK     62\n",
      "1       11350  11351   Madison  2004      F    AK     48\n",
      "2       11351  11352    Hannah  2004      F    AK     46\n",
      "3       11352  11353     Grace  2004      F    AK     44\n",
      "4       11353  11354     Emily  2004      F    AK     41\n",
      "5       11354  11355   Abigail  2004      F    AK     37\n",
      "6       11355  11356    Olivia  2004      F    AK     33\n",
      "7       11356  11357  Isabella  2004      F    AK     30\n",
      "8       11357  11358    Alyssa  2004      F    AK     29\n",
      "9       11358  11359    Sophia  2004      F    AK     28\n",
      "\n",
      "First 10 records without columns \"Unnamed: 0\" oraz \"Id\" : \n",
      "        Name  Year Gender State  Count\n",
      "0      Emma  2004      F    AK     62\n",
      "1   Madison  2004      F    AK     48\n",
      "2    Hannah  2004      F    AK     46\n",
      "3     Grace  2004      F    AK     44\n",
      "4     Emily  2004      F    AK     41\n",
      "5   Abigail  2004      F    AK     37\n",
      "6    Olivia  2004      F    AK     33\n",
      "7  Isabella  2004      F    AK     30\n",
      "8    Alyssa  2004      F    AK     29\n",
      "9    Sophia  2004      F    AK     28\n",
      "Count of famales=  558846\n",
      "Count of males=  457549\n",
      "There are more famales\n",
      "\n",
      "Most popular names: \n",
      " Name\n",
      "Emily       190318\n",
      "Daniel      191440\n",
      "Sophia      191446\n",
      "Joshua      191551\n",
      "William     197894\n",
      "Isabella    204798\n",
      "Ethan       209277\n",
      "Michael     214405\n",
      "Emma        214852\n",
      "Jacob       242874\n",
      "Name: Count, dtype: int64\n"
     ]
    },
    {
     "data": {
      "text/plain": [
       "<Figure size 640x480 with 1 Axes>"
      ],
      "image/png": "[encoded data removed]"
     },
     "metadata": {},
     "output_type": "display_data"
    },
    {
     "name": "stdout",
     "output_type": "stream",
     "text": [
      "Count of all different names=  17632\n",
      "The most popular name is  Jacob\n",
      "Srednia=  2008.932168784029\n",
      "Mediana=  49.0\n",
      "Odchylenie standardowe=  11006.06946789057\n"
     ]
    }
   ],
   "execution_count": 3
  },
  {
   "cell_type": "markdown",
   "metadata": {},
   "source": [
    "Krok 1: wczytaj dane z pliku `US_Baby_Names_right.csv` z katalogu `lab12_files`"
   ]
  },
  {
   "cell_type": "markdown",
   "metadata": {},
   "source": [
    "Krok 2: przypisz dane do zmiennej `baby_names`. Zobacz jakiego typu dane są przechowywane i ile jest rekordów"
   ]
  },
  {
   "cell_type": "markdown",
   "metadata": {},
   "source": [
    "Krok 3: podejrzy pierwszych 10 rekordów ze zbioru"
   ]
  },
  {
   "cell_type": "markdown",
   "metadata": {},
   "source": [
    "Krok 4: usuń kolumny 'Unnamed: 0' oraz 'Id' "
   ]
  },
  {
   "cell_type": "markdown",
   "metadata": {},
   "source": [
    "Krok 5: czy w zbiorze jest więcej imion kobiet, czy mężczyzn?"
   ]
  },
  {
   "cell_type": "markdown",
   "metadata": {},
   "source": [
    "Krok 6: zgrupuj wiersze względem imion i wypisz 10 najczęściej pojawiających się imion."
   ]
  },
  {
   "cell_type": "markdown",
   "metadata": {},
   "source": [
    "Krok 7: wyniki z Kroku 6 zaprezentuj na wykresie korzystając z `matplotlib`. Przygotuj trzy wykresy, tj. 10 najczęsciej występujących imion: ogółem, u mężczyzn i u kobiet."
   ]
  },
  {
   "cell_type": "markdown",
   "metadata": {},
   "source": [
    "Krok 8: Jak wiele różnych imion występuje w zbiorze?"
   ]
  },
  {
   "cell_type": "markdown",
   "metadata": {},
   "source": [
    "Krok 9: Przygotuj generator imion, losujący je zgodnie z rozkłądem prawdopodobieństwa otrzymanym na podstawie przetwarzanego pliku"
   ]
  },
  {
   "cell_type": "markdown",
   "metadata": {},
   "source": [
    "Krok 10: \n",
    "- Jakie imie występuje najczęściej?\n",
    "- Wyznacz średnią, medianę i odchylenie stanadrdowe wystepowania imion."
   ]
  },
  {
   "cell_type": "markdown",
   "metadata": {},
   "source": [
    "## Część II"
   ]
  },
  {
   "cell_type": "markdown",
   "metadata": {},
   "source": [
    "Krok 1: Wczytaj dane"
   ]
  },
  {
   "cell_type": "markdown",
   "metadata": {},
   "source": [
    "Krok 2: Podejrzyj pierwsze 25 rekordów"
   ]
  },
  {
   "cell_type": "markdown",
   "metadata": {},
   "source": [
    "Krok 3: Podejrzyj ostatnie 10 rekordów"
   ]
  },
  {
   "cell_type": "markdown",
   "metadata": {},
   "source": [
    "Krok 4: Ile jest obserwacji w zbiorze? Ile jest kolumn w zbiorze?"
   ]
  },
  {
   "cell_type": "markdown",
   "metadata": {},
   "source": [
    "Krok 5: Wypisz nazwy kolumn"
   ]
  },
  {
   "cell_type": "markdown",
   "metadata": {},
   "source": [
    "Krok 6: Ile różnych zawodów jest w zbiorze?"
   ]
  },
  {
   "cell_type": "markdown",
   "metadata": {},
   "source": [
    "Krok 7: Przygotuj efektywny wykres na którym przedstawisz procetowy udział poszczególnych zawodów w zbiorze na charplocie\n",
    "Wykorzystaj https://matplotlib.org/examples/pie_and_polar_charts/pie_demo_features.html\n",
    "\n",
    "Przygotuj dwa wykresy: \n",
    "- jeden z wszystkimi zawodami\n",
    "- drugi z 10 najcześtrzymi zawodami, pozostałem zawody trafiają do kategorii `Inne`"
   ]
  },
  {
   "cell_type": "markdown",
   "metadata": {},
   "source": [
    "Krok 8: Przygotuj efektywny wykres na którym przedstawisz 10 najczęstrzych zawodów oraz ile pracuje w nich kobiet a ilu meżczyzn\n",
    "Wykorzystaj https://matplotlib.org/gallery/api/barchart.html#sphx-glr-gallery-api-barchart-py"
   ]
  },
  {
   "cell_type": "markdown",
   "metadata": {},
   "source": [
    "Krok 9: Przygotuj efektywny wykres na którym przedstawisz średni wiek pracowników danego zawodu"
   ]
  },
  {
   "cell_type": "markdown",
   "metadata": {},
   "source": [
    "Krok 10: Przygotuj efektywny wykres na którym przedstawisz średni wiek kobiet i mężczyzn wykonujących dany zawód."
   ]
  }
 ],
 "metadata": {
  "kernelspec": {
   "display_name": "Python 3",
   "language": "python",
   "name": "python3"
  },
  "language_info": {
   "codemirror_mode": {
    "name": "ipython",
    "version": 3
   },
   "file_extension": ".py",
   "mimetype": "text/x-python",
   "name": "python",
   "nbconvert_exporter": "python",
   "pygments_lexer": "ipython3",
   "version": "3.6.4"
  }
 },
 "nbformat": 4,
 "nbformat_minor": 2
}
