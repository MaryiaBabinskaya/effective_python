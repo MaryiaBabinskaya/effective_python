{
 "cells": [
  {
   "cell_type": "markdown",
   "metadata": {},
   "source": [
    "## Lab 04"
   ]
  },
  {
   "cell_type": "markdown",
   "metadata": {},
   "source": [
    "## Zadanie 1 (Igor Sieradzki)"
   ]
  },
  {
   "cell_type": "markdown",
   "metadata": {},
   "source": [
    "Funkcja <t>flow_rate</i> do modyfikacji"
   ]
  },
  {
   "cell_type": "code",
   "metadata": {
    "collapsed": true,
    "ExecuteTime": {
     "end_time": "2024-11-12T20:59:51.189092Z",
     "start_time": "2024-11-12T20:59:51.185255Z"
    }
   },
   "source": [
    "from inspect import signature\n",
    "\n",
    "\n",
    "def flow_rate(weight, time, period = 1, units_per_kg = 1):\n",
    "    \"\"\" Funkcja wylicza ile wagi produktu przybyło/ubyło w jednostce czasu \"\"\"\n",
    "    return weight * units_per_kg / time * period\n",
    "\n",
    "weight = 0.5\n",
    "time = 3"
   ],
   "outputs": [],
   "execution_count": 71
  },
  {
   "cell_type": "code",
   "metadata": {
    "collapsed": true,
    "ExecuteTime": {
     "end_time": "2024-11-12T20:59:51.203476Z",
     "start_time": "2024-11-12T20:59:51.201249Z"
    }
   },
   "source": [
    "flow = flow_rate(weight, time)\n",
    "print(\"{0:.3} kg per second\".format(flow))"
   ],
   "outputs": [
    {
     "name": "stdout",
     "output_type": "stream",
     "text": [
      "0.167 kg per second\n"
     ]
    }
   ],
   "execution_count": 72
  },
  {
   "cell_type": "code",
   "metadata": {
    "collapsed": true,
    "ExecuteTime": {
     "end_time": "2024-11-12T20:59:51.217247Z",
     "start_time": "2024-11-12T20:59:51.215588Z"
    }
   },
   "source": "# Zmodyfikuj funckje <i>flow_rate</i> tak, aby poniższe wywołania działały poprawnie.",
   "outputs": [],
   "execution_count": 73
  },
  {
   "cell_type": "code",
   "metadata": {
    "collapsed": true,
    "ExecuteTime": {
     "end_time": "2024-11-12T20:59:51.234803Z",
     "start_time": "2024-11-12T20:59:51.233066Z"
    }
   },
   "source": [
    "flow = flow_rate(weight, time, period=60, units_per_kg=1000)\n",
    "print(\"{} grams per minute\".format(flow))"
   ],
   "outputs": [
    {
     "name": "stdout",
     "output_type": "stream",
     "text": [
      "10000.0 grams per minute\n"
     ]
    }
   ],
   "execution_count": 74
  },
  {
   "cell_type": "code",
   "metadata": {
    "collapsed": true,
    "ExecuteTime": {
     "end_time": "2024-11-12T20:59:51.250587Z",
     "start_time": "2024-11-12T20:59:51.248604Z"
    }
   },
   "source": [
    "flow = flow_rate(weight, time, period=1, units_per_kg=1)\n",
    "print(\"{0:.3} kg per second\".format(flow))"
   ],
   "outputs": [
    {
     "name": "stdout",
     "output_type": "stream",
     "text": [
      "0.167 kg per second\n"
     ]
    }
   ],
   "execution_count": 75
  },
  {
   "cell_type": "code",
   "metadata": {
    "collapsed": true,
    "ExecuteTime": {
     "end_time": "2024-11-12T20:59:51.265766Z",
     "start_time": "2024-11-12T20:59:51.263882Z"
    }
   },
   "source": [
    "flow = flow_rate(weight, time)\n",
    "print(\"{0:.3} grams per minute\".format(flow))"
   ],
   "outputs": [
    {
     "name": "stdout",
     "output_type": "stream",
     "text": [
      "0.167 grams per minute\n"
     ]
    }
   ],
   "execution_count": 76
  },
  {
   "cell_type": "markdown",
   "metadata": {},
   "source": [
    "Wyjaśnić czemu poniższe rzucanie błędu jest porządane"
   ]
  },
  {
   "cell_type": "code",
   "metadata": {
    "collapsed": true,
    "ExecuteTime": {
     "end_time": "2024-11-12T20:59:51.283967Z",
     "start_time": "2024-11-12T20:59:51.281990Z"
    }
   },
   "source": [
    "try:\n",
    "    flow = flow_rate(weight, time, 3600, 2.2)\n",
    "except TypeError:\n",
    "    print(True)"
   ],
   "outputs": [],
   "execution_count": 77
  },
  {
   "cell_type": "markdown",
   "metadata": {},
   "source": [
    "## Zadanie 2 (Igor Sieradzki)"
   ]
  },
  {
   "cell_type": "markdown",
   "metadata": {},
   "source": [
    "Dopisz definicje dekoratora _timeit_, który wypisze na wyjscie standardowe czas wywołania udekorowanej funckji np.\n",
    "\n",
    "```\n",
    "@timeit\n",
    "def foo(x):\n",
    "    return x**2\n",
    "    \n",
    "r = foo(2)\n",
    "```\n",
    "wypize: <br>\n",
    "    `Function foo took: 0.00001 seconds` <br>\n",
    "oraz zwróci 4"
   ]
  },
  {
   "cell_type": "code",
   "metadata": {
    "collapsed": true,
    "ExecuteTime": {
     "end_time": "2024-11-12T20:59:51.373657Z",
     "start_time": "2024-11-12T20:59:51.295347Z"
    }
   },
   "source": [
    "from time import time\n",
    "\n",
    "def timeit(func):\n",
    "    \"\"\" Wypisuje czas wywołania udekorowanej funckji \"\"\"\n",
    "    def timed(*args, **kw):\n",
    "        ts = time()\n",
    "        result = func(*args, **kw)\n",
    "        te = time()\n",
    "        print('Function took:{0:.3f} s'.format(te-ts))\n",
    "        return result\n",
    "    return timed\n",
    "\n",
    "@timeit\n",
    "def squares_list(n):\n",
    "    squares = []\n",
    "    for i in range(n):\n",
    "        squares.append(i ** 2)\n",
    "    return squares\n",
    "\n",
    "@timeit\n",
    "def squares_comprehension(n):\n",
    "    return [i ** 2 for i in range(n)]\n",
    "\n",
    "@timeit\n",
    "def squares_map(n):\n",
    "    return map(lambda x: x**2, range(n))\n",
    "\n",
    "n = 1000000\n",
    "l = squares_list(n)\n",
    "c = squares_comprehension(n)\n",
    "m = squares_map(n)"
   ],
   "outputs": [
    {
     "name": "stdout",
     "output_type": "stream",
     "text": [
      "Function took:0.034 s\n",
      "Function took:0.029 s\n",
      "Function took:0.000 s\n"
     ]
    }
   ],
   "execution_count": 78
  },
  {
   "cell_type": "markdown",
   "metadata": {},
   "source": [
    "## Zadanie 3 (Igor Sieradzki)"
   ]
  },
  {
   "cell_type": "markdown",
   "metadata": {},
   "source": [
    "Dopisz definicje dekoratora _derivate_ wg. instrukcji w _docstringu_"
   ]
  },
  {
   "cell_type": "code",
   "metadata": {
    "collapsed": true,
    "ExecuteTime": {
     "end_time": "2024-11-12T20:59:51.384022Z",
     "start_time": "2024-11-12T20:59:51.380616Z"
    }
   },
   "source": [
    "import sys\n",
    "sys.float_info.epsilon # epsilon maszynowy\n",
    "\n",
    "def derivate(epsilon=None):\n",
    "\n",
    "    if epsilon is None:\n",
    "        epsilon = 1000 * sys.float_info.epsilon\n",
    "\n",
    "    def decorator(func):\n",
    "        def wrapper(x):\n",
    "            return (func(x + epsilon) - func(x)) / epsilon\n",
    "        return wrapper\n",
    "    \n",
    "    return decorator\n",
    "\n",
    "\n",
    "@derivate(0.01)\n",
    "def f(x):\n",
    "    return x*x\n",
    "\n",
    "@derivate(0.00001)\n",
    "def g(x):\n",
    "    return x*x*x+3\n",
    "\n",
    "def test(a, b, eps=1):\n",
    "    return abs(round(a)-round(b)) < eps\n",
    "\n",
    "print(test(f(100), 200.0))\n",
    "print(round(f(0)) == 0.0)\n",
    "\n",
    "print(test(g(100), 30000.0))\n",
    "print(round(g(0)) == 0.0)\n",
    "\n",
    "from random import random\n",
    "for x in [random()*1000. for _ in range(20)]:\n",
    "    print(f(x), 2*x, '\\t', test(f(x), 2*x))\n",
    "    print(g(x), 3*x**2, '\\t', test(g(x), 3*x**2))"
   ],
   "outputs": [
    {
     "name": "stdout",
     "output_type": "stream",
     "text": [
      "True\n",
      "True\n",
      "True\n",
      "True\n",
      "845.6977335416013 845.6877335422257 \t True\n",
      "536390.8186554909 536390.8069978398 \t True\n",
      "681.4028345484985 681.3928345485812 \t True\n",
      "348222.15512394905 348222.1462306126 \t True\n",
      "1654.187524074223 1654.1775240751124 \t True\n",
      "2052227.485179901 2052227.4608664517 \t True\n",
      "1924.6755682048388 1924.665568197945 \t True\n",
      "2778253.185749054 2778253.162055039 \t True\n",
      "78.43707534314035 78.42707534314374 \t True\n",
      "4613.1057883030735 4613.104610159358 \t True\n",
      "1718.9825472072698 1718.9725472097023 \t True\n",
      "2216149.9857902527 2216149.9635454593 \t True\n",
      "1901.9364479347132 1901.9264479263961 \t True\n",
      "2712993.1926727295 2712993.1599914385 \t True\n",
      "530.3528131305939 530.3428131307064 \t True\n",
      "210947.63204455373 210947.62457954354 \t True\n",
      "1308.439037943026 1308.429037943211 \t True\n",
      "1283989.9241924286 1283989.9104997474 \t True\n",
      "1693.7729435507208 1693.7629435502886 \t True\n",
      "2151624.7034072876 2151624.6817081035 \t True\n",
      "751.64221226878 751.6322122712576 \t True\n",
      "423713.24673295015 423713.2368928386 \t True\n",
      "399.6755037129333 399.6655037130643 \t True\n",
      "119799.39220473169 119799.38614366305 \t True\n",
      "1644.533543905709 1644.5235438995342 \t True\n",
      "2028343.2841300962 2028343.2648299122 \t True\n",
      "1040.907245647395 1040.897245643576 \t True\n",
      "812600.3205776213 812600.3069912873 \t True\n",
      "1183.6836124712136 1183.6736124732572 \t True\n",
      "1050812.4321699142 1050812.415649118 \t True\n",
      "1715.7469625701196 1715.7369625705883 \t True\n",
      "2207815.0272369385 2207814.993548211 \t True\n",
      "748.3705692429794 748.3605692438382 \t True\n",
      "420032.6666235923 420032.65619922115 \t True\n",
      "770.6427231634734 770.6327231638656 \t True\n",
      "445406.1068594455 445406.09550821636 \t True\n",
      "69.73469297086012 69.72469297086037 \t True\n",
      "3646.150654822122 3646.1496074105594 \t True\n",
      "1190.734198957216 1190.7241989543938 \t True\n",
      "1063368.1058883667 1063368.088481687 \t True\n"
     ]
    }
   ],
   "execution_count": 79
  },
  {
   "cell_type": "markdown",
   "metadata": {},
   "source": [
    "## Zadanie 4 (Igor Sieradzki)"
   ]
  },
  {
   "cell_type": "markdown",
   "metadata": {},
   "source": [
    "Dopisz definicje dekoratora _accepts_ wg. instrukcji w _docstringu_"
   ]
  },
  {
   "cell_type": "code",
   "metadata": {
    "collapsed": true,
    "ExecuteTime": {
     "end_time": "2024-11-12T20:59:51.399014Z",
     "start_time": "2024-11-12T20:59:51.395593Z"
    }
   },
   "source": [
    "def accepts(*types):\n",
    "    \"\"\"Sprawdza czy udekorowanej funckji zostały podane odpowiednie parametry zdefiniowane \n",
    "       w argumentach dekoratora\"\"\"\n",
    "    def inner(func):\n",
    "        def wrapper(*args, **kwargs):\n",
    "            dTypes = list(types)\n",
    "            fTypes = list(args)\n",
    "            fTypes2 = dict(kwargs)\n",
    "            if len(dTypes) != len(fTypes) + len(fTypes2):\n",
    "                raise TypeError(\"decorator and functions have different types\")\n",
    "            i = 0\n",
    "            while i in range(len(fTypes)):\n",
    "                if dTypes[i] != type(fTypes[i]):\n",
    "                    raise TypeError(\"decorator and functions have different types\")\n",
    "                i += 1\n",
    "            for v in fTypes2.values():\n",
    "                if dTypes[i] != type(v):\n",
    "                    raise TypeError(\"decorator and functions have different types\")\n",
    "                i += 1\n",
    "            return func(*args, **kwargs)\n",
    "        return wrapper\n",
    "    return inner\n",
    "\n",
    "\n",
    "@accepts(str)\n",
    "def capitalize(word):\n",
    "    return word[0].upper() + word[1:]\n",
    "\n",
    "print(capitalize('ola') == 'Ola')\n",
    "\n",
    "try:\n",
    "    capitalize(2)\n",
    "except TypeError:\n",
    "    print(True)\n",
    "\n",
    "@accepts(float, int)\n",
    "def static_pow(base, exp):\n",
    "    return base ** exp \n",
    "\n",
    "print(static_pow(2., 2) == 4.)\n",
    "print(static_pow(2., exp=2) == 4.)\n",
    "print(static_pow(base=2., exp=2) == 4.)\n",
    "\n",
    "try:\n",
    "    static_pow('x', 10)\n",
    "except TypeError:\n",
    "    print(True)\n",
    "    \n",
    "try:\n",
    "    static_pow(2, 2.2)\n",
    "except TypeError:\n",
    "    print(True)"
   ],
   "outputs": [
    {
     "name": "stdout",
     "output_type": "stream",
     "text": [
      "True\n",
      "True\n",
      "True\n",
      "True\n",
      "True\n",
      "True\n",
      "True\n"
     ]
    }
   ],
   "execution_count": 80
  },
  {
   "cell_type": "markdown",
   "metadata": {},
   "source": [
    "## Zadanie 5 (Igor Sieradzki)"
   ]
  },
  {
   "cell_type": "markdown",
   "metadata": {},
   "source": [
    "Dopisz definicje dekoratora _returns_ wg. instrukcji w _docstringu_"
   ]
  },
  {
   "cell_type": "code",
   "metadata": {
    "collapsed": true,
    "ExecuteTime": {
     "end_time": "2024-11-12T20:59:51.415044Z",
     "start_time": "2024-11-12T20:59:51.412176Z"
    }
   },
   "source": [
    "from re import split\n",
    "\n",
    "\n",
    "def returns(*types):\n",
    "    \"\"\"Sprawdza czy udekorowana funkcja zwraca poprawne argumenty, zdefiniowane w parametrach dekoratora\"\"\"\n",
    "    def decorator(func):\n",
    "        def wrapper(*args, **kwargs):\n",
    "            result = func(*args, **kwargs)\n",
    "            for i in range(len(types)):\n",
    "                if not isinstance(result[i], types[i]):\n",
    "                    raise TypeError\n",
    "            return result\n",
    "        return wrapper\n",
    "    return decorator\n",
    "\n",
    "\n",
    "@returns(str)\n",
    "def str_only_identity(word):\n",
    "    return word\n",
    "\n",
    "print(str_only_identity('hello') == 'hello')\n",
    "\n",
    "try:\n",
    "    str_only_identity(10)\n",
    "except TypeError:\n",
    "    print(True)\n",
    "    \n",
    "@returns(int, int)\n",
    "def split_indices(x):\n",
    "    return x[0], x[1]\n",
    "\n",
    "print(split_indices(x=[6,9]) == (6,9))\n",
    "\n",
    "try:\n",
    "    split('AB')\n",
    "except TypeError:\n",
    "    print(True)"
   ],
   "outputs": [
    {
     "name": "stdout",
     "output_type": "stream",
     "text": [
      "True\n",
      "True\n",
      "True\n",
      "True\n"
     ]
    }
   ],
   "execution_count": 81
  },
  {
   "cell_type": "markdown",
   "metadata": {},
   "source": [
    "## Zadanie 6 (Igor Sieradzki)\n",
    "Stwórz dekorator cached służący do cachowania wywołań dowolnej funkcji, tzn. chcemy by:\n",
    "* wywołanie funkcji z określonymi argumentami miało miejsce tylko raz\n",
    "* funkcja mogła przyjmować dowolną liczbę nazwanych i nienazwanych argumentów\n",
    "* nie musi reagować poprawnie na domyślne argumenty, tzn. wywołanie funkcji z domyślnymi argumentami a podanie dokładnie takich samych może być traktowane jako dwa różne wywołania\n",
    "* na opakowanej funkcji można wywołać `.cache_reset()`, który usunie cache z pamięci\n",
    "* wywołanie `.cache_status()` zwraca string z opisem w postaci: <br>\n",
    "    `Function FUNCTION_NAME called X times, evaluated Y times`"
   ]
  },
  {
   "cell_type": "code",
   "metadata": {
    "collapsed": true,
    "ExecuteTime": {
     "end_time": "2024-11-13T20:44:29.921183Z",
     "start_time": "2024-11-13T20:44:29.916301Z"
    }
   },
   "source": [
    "from functools import wraps\n",
    "from random import random\n",
    "\n",
    "def cached(func):\n",
    "    cache = {}\n",
    "    call_count = 0\n",
    "    eval_count = 0\n",
    "\n",
    "    @wraps(func)\n",
    "    def wrapper(*args, **kwargs):\n",
    "        nonlocal call_count, eval_count\n",
    "        call_count += 1\n",
    "        \n",
    "        key = (args, frozenset(kwargs.items()))\n",
    "        if key not in cache:\n",
    "            eval_count += 1\n",
    "            cache[key] = func(*args, **kwargs)\n",
    "        return cache[key]\n",
    "\n",
    "    def cache_reset():\n",
    "        cache.clear()\n",
    "\n",
    "    def cache_status():\n",
    "        return f\"Function {func.__name__} called {call_count} times, evaluated {eval_count} times\"\n",
    "\n",
    "    wrapper.cache_reset = cache_reset\n",
    "    wrapper.cache_status = cache_status\n",
    "    return wrapper\n",
    "\n",
    "@cached\n",
    "def foo(x, y=1, z=4):\n",
    "    return random()\n",
    "        \n",
    "print(foo(3) == foo(3))\n",
    "print(foo(4) == foo(4))\n",
    "print(foo(3, z=-1, y=3) == foo(3, y=3, z=-1))\n",
    "print(foo(3) != foo(x=3))\n",
    "a = foo(3)\n",
    "foo.cache_reset()\n",
    "print(a != foo(3))\n",
    "print(foo.cache_status() == 'Function foo called 10 times, evaluated 5 times')"
   ],
   "outputs": [
    {
     "name": "stdout",
     "output_type": "stream",
     "text": [
      "True\n",
      "True\n",
      "True\n",
      "True\n",
      "True\n",
      "True\n"
     ]
    }
   ],
   "execution_count": 10
  },
  {
   "cell_type": "markdown",
   "metadata": {},
   "source": [
    "## Zadanie 7 (Krzysztof Hajto)"
   ]
  },
  {
   "cell_type": "markdown",
   "metadata": {},
   "source": [
    "Napisz dekorator który będzie robić n-krotne złożenie funkcji, gdzie n jest parametrem dekoratora"
   ]
  },
  {
   "cell_type": "code",
   "metadata": {
    "collapsed": true,
    "ExecuteTime": {
     "end_time": "2024-11-12T20:59:51.442518Z",
     "start_time": "2024-11-12T20:59:51.440145Z"
    }
   },
   "source": [
    "def zlozenie(n):\n",
    "    def decorator(func):\n",
    "        def wrapper(x):\n",
    "            result = x\n",
    "            for _ in range(n):\n",
    "                result = func(result)\n",
    "            return result\n",
    "        return wrapper\n",
    "    return decorator\n",
    "\n",
    "@zlozenie(3)\n",
    "def f1(x):\n",
    "    return x+1\n",
    "\n",
    "@zlozenie(2)\n",
    "def f2(x):\n",
    "    return x*x\n",
    "\n",
    "@zlozenie(5)\n",
    "def f3(word):\n",
    "    return \"\".join(chr(ord(l)+1) for l in word)\n",
    "\n",
    "print(f1(2)==5)\n",
    "print(f2(3)==81)\n",
    "print(f3(\"alamakota\")==\"fqfrfptyf\")"
   ],
   "outputs": [
    {
     "name": "stdout",
     "output_type": "stream",
     "text": [
      "True\n",
      "True\n",
      "True\n"
     ]
    }
   ],
   "execution_count": 83
  },
  {
   "cell_type": "markdown",
   "metadata": {},
   "source": [
    "## Zadanie 8 (Krzysztof Hajto)"
   ]
  },
  {
   "cell_type": "markdown",
   "metadata": {},
   "source": [
    "Python nie ma wbudowanej instrukcji switch. Ale posiada anonimowe funkcje oraz słowniki. Zaimplementuj poniższy switch w postaci słownika funkcji.\n",
    "`\n",
    "int my_function(x, y) {\n",
    "\n",
    "\n",
    "    switch(x) {\n",
    "        case 1: return y*y;\n",
    "        case 2: return x+y;\n",
    "        case 3: return x*y;\n",
    "        case 4: return 0;\n",
    "    }\n",
    "}\n",
    "`\n",
    "\n",
    "PS. Nigdy nie róbcie tego w faktycznym kodzie :)"
   ]
  },
  {
   "cell_type": "code",
   "metadata": {
    "collapsed": true,
    "ExecuteTime": {
     "end_time": "2024-11-12T20:59:51.454706Z",
     "start_time": "2024-11-12T20:59:51.452588Z"
    }
   },
   "source": [
    "def my_function(x, y):\n",
    "    switch_dict={\n",
    "        1: lambda : y*y,\n",
    "        2: lambda : x+y,\n",
    "        3: lambda : x*y,\n",
    "        4: lambda : 0\n",
    "    }\n",
    "    func = switch_dict.get(x, lambda : None)\n",
    "    return func()\n",
    "\n",
    "print(my_function(1,3)==9)\n",
    "print(my_function(2,4)==6)\n",
    "print(my_function(3,1)==3)\n",
    "print(my_function(4,9)==0)"
   ],
   "outputs": [
    {
     "name": "stdout",
     "output_type": "stream",
     "text": [
      "True\n",
      "True\n",
      "True\n",
      "True\n"
     ]
    }
   ],
   "execution_count": 84
  }
 ],
 "metadata": {
  "kernelspec": {
   "display_name": "Python 3",
   "language": "python",
   "name": "python3"
  },
  "language_info": {
   "codemirror_mode": {
    "name": "ipython",
    "version": 3
   },
   "file_extension": ".py",
   "mimetype": "text/x-python",
   "name": "python",
   "nbconvert_exporter": "python",
   "pygments_lexer": "ipython3",
   "version": "3.6.2"
  }
 },
 "nbformat": 4,
 "nbformat_minor": 2
}
